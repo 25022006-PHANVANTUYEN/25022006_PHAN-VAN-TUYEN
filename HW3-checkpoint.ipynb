{
 "cells": [
  {
   "cell_type": "code",
   "execution_count": null,
   "id": "fcfae09d-d213-484c-aa2d-33e553040eaa",
   "metadata": {},
   "outputs": [],
   "source": [
    "#a2\n",
    "a = int(input('nhap so thu 1: '))\n",
    "b = int(input('nhap so thu 2: '))\n",
    "a = a^b\n",
    "b = a^b\n",
    "a = a^b\n",
    "print(a)\n",
    "print(b)"
   ]
  },
  {
   "cell_type": "code",
   "execution_count": null,
   "id": "79ce6c92-b5c0-4363-b2ab-98e6ded1f8fc",
   "metadata": {},
   "outputs": [],
   "source": [
    "#a3\n",
    "a = int(input())\n",
    "if (a != 0) & (a & (a-1) == 0):\n",
    "    print('co')\n",
    "else:\n",
    "    print('khong')"
   ]
  },
  {
   "cell_type": "code",
   "execution_count": null,
   "id": "2d8c995b-f12c-4aaf-90cd-fb6ccb839e89",
   "metadata": {},
   "outputs": [],
   "source": [
    "#a4\n",
    "m = int(input(\"nhap so m: \"))\n",
    "n = int(input(\"nhap so n :\"))\n",
    "p = m/n\n",
    "import math\n",
    "p = math.floor(p)\n",
    "print(p)"
   ]
  },
  {
   "cell_type": "code",
   "execution_count": null,
   "id": "73b967e6-f12c-4c6d-99eb-95595e6e4c38",
   "metadata": {},
   "outputs": [],
   "source": [
    "#a5\n",
    "m = int(input('nhap so m: '))\n",
    "n = int(input('nhap so n: '))\n",
    "p = m/n\n",
    "import math\n",
    "p = math.ceil(p)\n",
    "print(p)"
   ]
  },
  {
   "cell_type": "code",
   "execution_count": null,
   "id": "eb3f7df1-382c-4abe-8f12-b83e934a650d",
   "metadata": {},
   "outputs": [],
   "source": [
    "#a6\n",
    "x = int(input('nhap so x: '))\n",
    "if x % 2 == 0:\n",
    "    print('even')\n",
    "else:\n",
    "    print('odd')"
   ]
  },
  {
   "cell_type": "code",
   "execution_count": null,
   "id": "0c5696be-4263-4539-89e3-980b75f2f789",
   "metadata": {},
   "outputs": [],
   "source": [
    "#a7\n",
    "a = int(input())\n",
    "b = int(input())\n",
    "if (a < 0) & (b < 0):\n",
    "    print(\"yes\")\n",
    "else: \n",
    "    print(\"no\")"
   ]
  },
  {
   "cell_type": "code",
   "execution_count": null,
   "id": "a66e70ce-b4e0-46f1-b18d-dacccc29cda1",
   "metadata": {},
   "outputs": [],
   "source": [
    "#a8\n",
    "a = input()\n",
    "b = input()\n",
    "if len(a) > len(b):\n",
    "    print('true')\n",
    "else: \n",
    "    print('false')\n",
    "    "
   ]
  },
  {
   "cell_type": "code",
   "execution_count": null,
   "id": "751c4c67-bc17-4a8b-8ea3-a86b25a93ab7",
   "metadata": {},
   "outputs": [],
   "source": [
    "#a9\n",
    "a = int(input())\n",
    "b = int(input())\n",
    "c = int(input())\n",
    "if a + b > c > abs(a - b):\n",
    "    print('yes')\n",
    "else: \n",
    "    print('no')"
   ]
  },
  {
   "cell_type": "code",
   "execution_count": null,
   "id": "6d3e8bda-cb7e-43aa-a2b5-5a74ed68e3b8",
   "metadata": {},
   "outputs": [],
   "source": [
    "#a10\n",
    "a = int(input())\n",
    "b = int(input())\n",
    "c = int(input())\n",
    "d = int(input())\n",
    "print(max(a, b, c, d))"
   ]
  },
  {
   "cell_type": "code",
   "execution_count": null,
   "id": "5b8f7bd3-fe50-4495-bc31-c7c30d6959f5",
   "metadata": {},
   "outputs": [],
   "source": [
    "#a11\n",
    "a = int(input())\n",
    "b = int(input())\n",
    "c = int(input())\n",
    "if a + b > c > abs(a - b):\n",
    "    if a == b == c:\n",
    "        print('tam giac deu')\n",
    "    elif a==b or b==c or c==a:\n",
    "        print('tam giac can')\n",
    "    else:\n",
    "        print('tam giac thuong')\n",
    "else:\n",
    "    print('khong phai tam giac')"
   ]
  },
  {
   "cell_type": "code",
   "execution_count": null,
   "id": "58d0efcf-fb27-4ba0-b21a-85b1ca7ce521",
   "metadata": {},
   "outputs": [],
   "source": [
    "#a12\n",
    "a = int(input())\n",
    "b = int(input())\n",
    "c = int(input())\n",
    "if a + b > c > abs(a - b):\n",
    "    if a == b == c:\n",
    "        print('tam giac deu')\n",
    "    elif a==b or b==c or c==a:\n",
    "        print('tam giac can')\n",
    "    else:\n",
    "        print('tam giac thuong')\n",
    "else:\n",
    "    print('khong phai tam giac')\n",
    "    "
   ]
  },
  {
   "cell_type": "code",
   "execution_count": null,
   "id": "9be4de0d-7a56-4ba3-a72c-b963e919f12e",
   "metadata": {},
   "outputs": [],
   "source": [
    "#a13\n",
    "n = int(input())\n",
    "if n % 4 == 0 and n % 100 != 0 or n % 400 == 0:\n",
    "    print('yes')\n",
    "else: \n",
    "    print('no')"
   ]
  },
  {
   "cell_type": "code",
   "execution_count": null,
   "id": "a89d79ba-548a-49de-a4c0-f0dc0c212baf",
   "metadata": {},
   "outputs": [],
   "source": [
    "#a14\n",
    "a = int(input())\n",
    "b = int(input())\n",
    "if a == 0 and b == 0:\n",
    "    print('vo so nghiem')\n",
    "elif a == 0:\n",
    "    print('vo nghiem')\n",
    "else:\n",
    "    print(round(-b/a, 2))"
   ]
  },
  {
   "cell_type": "code",
   "execution_count": null,
   "id": "92141afb-b662-4d48-b918-6a596edb3a41",
   "metadata": {},
   "outputs": [],
   "source": [
    "#a15\n",
    "a = int(input())\n",
    "if a >= 8.0:\n",
    "    print('gioi')\n",
    "elif a >= 6.5:\n",
    "    print('kha')\n",
    "elif a >= 5.0:\n",
    "    print('trung binh')\n",
    "else:\n",
    "    print('yeu')"
   ]
  },
  {
   "cell_type": "code",
   "execution_count": null,
   "id": "6b11ada7-6573-4051-979a-740f25563c4a",
   "metadata": {},
   "outputs": [],
   "source": [
    "#a16\n",
    "n = float(input())\n",
    "print((n // 1) + 1, (n // 1), int(n))"
   ]
  },
  {
   "cell_type": "code",
   "execution_count": null,
   "id": "8cc2d4d2-e1ff-4dd7-ba5a-6e7b51d22607",
   "metadata": {},
   "outputs": [],
   "source": [
    "#a17\n",
    "a,b,c,d=map(int,input().split())\n",
    "if b % a == 0:\n",
    "    e = b / a\n",
    "    if c == b * e and d == c * e:\n",
    "        print('4 so là cap so nhan')\n",
    "    else:\n",
    "        print('4 so khong phai la cap so nhan')\n",
    "else:\n",
    "    print('4 so khong phai la cap so nhan')"
   ]
  }
 ],
 "metadata": {
  "kernelspec": {
   "display_name": "Python 3 (ipykernel)",
   "language": "python",
   "name": "python3"
  },
  "language_info": {
   "codemirror_mode": {
    "name": "ipython",
    "version": 3
   },
   "file_extension": ".py",
   "mimetype": "text/x-python",
   "name": "python",
   "nbconvert_exporter": "python",
   "pygments_lexer": "ipython3",
   "version": "3.13.7"
  }
 },
 "nbformat": 4,
 "nbformat_minor": 5
}
