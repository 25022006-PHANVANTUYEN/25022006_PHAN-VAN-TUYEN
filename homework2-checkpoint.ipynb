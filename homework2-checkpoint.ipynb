{
 "cells": [
  {
   "cell_type": "code",
   "execution_count": 3,
   "id": "12ca6605-b96a-4968-ae8c-cb3d056894cc",
   "metadata": {},
   "outputs": [
    {
     "name": "stdin",
     "output_type": "stream",
     "text": [
      " 1 2\n"
     ]
    },
    {
     "name": "stdout",
     "output_type": "stream",
     "text": [
      "S = 2.0\n",
      "C = 6.0\n"
     ]
    }
   ],
   "source": [
    "#bai1\n",
    "a,b=map(float,input().split())\n",
    "print('S =',a*b)\n",
    "print('C =',(a+b)*2)"
   ]
  },
  {
   "cell_type": "code",
   "execution_count": null,
   "id": "52073eb2-1a0b-4ff6-91b8-7b728a5b6f30",
   "metadata": {},
   "outputs": [],
   "source": [
    "#bai2\n",
    "i=float(input())\n",
    "pi=3.14\n",
    "print('S=',pi*((i)**2))\n",
    "print('C=',pi*i*2)"
   ]
  },
  {
   "cell_type": "code",
   "execution_count": 5,
   "id": "6e2c6398-4b2e-412d-8f02-328b6b19c09f",
   "metadata": {},
   "outputs": [
    {
     "name": "stdin",
     "output_type": "stream",
     "text": [
      " 3 4 5.2\n"
     ]
    },
    {
     "name": "stdout",
     "output_type": "stream",
     "text": [
      "co the la 3 canh tam giac\n"
     ]
    }
   ],
   "source": [
    "#bai3\n",
    "a,b,c=map(float,input().split())\n",
    "if (a+b)<c or (a+c)<b or (b+c)<a :\n",
    "    print('khong la 3 canh tam giac')\n",
    "else:\n",
    "    print('co the la 3 canh tam giac')"
   ]
  },
  {
   "cell_type": "code",
   "execution_count": 8,
   "id": "3f6be973-8029-436c-998c-05259a8da25a",
   "metadata": {},
   "outputs": [
    {
     "name": "stdout",
     "output_type": "stream",
     "text": [
      "phuong trinh co dang ax+b=0\n"
     ]
    },
    {
     "name": "stdin",
     "output_type": "stream",
     "text": [
      "nhap a va b :  0 1\n"
     ]
    },
    {
     "name": "stdout",
     "output_type": "stream",
     "text": [
      "k tm xin moi nhap lai a va b\n"
     ]
    },
    {
     "name": "stdin",
     "output_type": "stream",
     "text": [
      "nhap a va b :  2 3\n"
     ]
    },
    {
     "name": "stdout",
     "output_type": "stream",
     "text": [
      "nghiem cua prinh la : -1.5\n"
     ]
    }
   ],
   "source": [
    "#bai4\n",
    "print('phuong trinh co dang: ax+b=0')\n",
    "a,b=map(float,input('nhap a va b : ').split())\n",
    "while a==0:\n",
    "    print('k tm xin moi nhap lai a va b')\n",
    "    a,b=map(float,input('nhap a va b : ').split())\n",
    "x=-b/a\n",
    "print('nghiem cua prinh la :',x)"
   ]
  },
  {
   "cell_type": "code",
   "execution_count": 24,
   "id": "a040f201-90a9-4313-b684-970343665ac0",
   "metadata": {},
   "outputs": [
    {
     "name": "stdout",
     "output_type": "stream",
     "text": [
      "phuong trinh co dang: ax^2+bx+c=0\n"
     ]
    },
    {
     "name": "stdin",
     "output_type": "stream",
     "text": [
      "nhap he so a,b,c : 1 2 3\n"
     ]
    },
    {
     "name": "stdout",
     "output_type": "stream",
     "text": [
      "nghiem x1 x2 ao cua phuong trinh lan luot la : (-1+1.4142135623730951j) va (-1-1.4142135623730951j)\n"
     ]
    }
   ],
   "source": [
    "#bai5\n",
    "print('phuong trinh co dang: ax^2+bx+c=0')\n",
    "a,b,c=map(float,input('nhap he so a,b,c :').split())\n",
    "delta=b*b-4*a*c\n",
    "if delta>0:\n",
    "    import math\n",
    "    k = math.sqrt(delta)\n",
    "    x1=(-b+k)/(2*a)\n",
    "    x2=(-b-k)/(2*a)\n",
    "    print('nghiem x1 x2 cua phuong trinh lan luot la :',x1,'va',x2)\n",
    "else:\n",
    "    import cmath\n",
    "    k = cmath.sqrt(delta)\n",
    "    x1=(-b+k)/(2*a)\n",
    "    x2=(-b-k)/(2*a)\n",
    "    print('nghiem x1 x2 ao cua phuong trinh lan luot la :',x1,'va',x2)\n"
   ]
  },
  {
   "cell_type": "code",
   "execution_count": 34,
   "id": "b85e8353-bb6e-4d76-abb7-8caae3041363",
   "metadata": {},
   "outputs": [
    {
     "name": "stdin",
     "output_type": "stream",
     "text": [
      "nhap 4 so a,b,c,d 1 2 3 4\n"
     ]
    },
    {
     "name": "stdout",
     "output_type": "stream",
     "text": [
      "4.0\n"
     ]
    }
   ],
   "source": [
    "#bai6\n",
    "a,b,c,d=map(float,input('nhap 4 so a,b,c,d').split())\n",
    "def max(a,b,c,d):\n",
    "    max=0\n",
    "    max1=0\n",
    "    if a-b>0: max=a\n",
    "    else: max=b\n",
    "    max2=0\n",
    "    if c-d>0:max2=c\n",
    "    else:max2=d\n",
    "    if max1-max2>0:max=max1\n",
    "    else:max=max2\n",
    "    print(max)\n",
    "max(a,b,c,d)\n",
    "    "
   ]
  },
  {
   "cell_type": "code",
   "execution_count": 2,
   "id": "95f6a8be-7305-406e-9e51-d942306a6226",
   "metadata": {},
   "outputs": [
    {
     "name": "stdin",
     "output_type": "stream",
     "text": [
      "nhap 4 so a,b,c,d 1 2 3 4\n"
     ]
    },
    {
     "name": "stdout",
     "output_type": "stream",
     "text": [
      "1.0\n"
     ]
    }
   ],
   "source": [
    "#bai7\n",
    "a,b,c,d=map(float,input('nhap 4 so a,b,c,d:').split())\n",
    "print(min(a,b,c,d))"
   ]
  },
  {
   "cell_type": "code",
   "execution_count": 1,
   "id": "acbc62d4-6aaa-4ad9-97a0-b844494a37b2",
   "metadata": {},
   "outputs": [
    {
     "ename": "SyntaxError",
     "evalue": "unterminated string literal (detected at line 2) (1986972314.py, line 2)",
     "output_type": "error",
     "traceback": [
      "  \u001b[36mCell\u001b[39m\u001b[36m \u001b[39m\u001b[32mIn[1]\u001b[39m\u001b[32m, line 2\u001b[39m\n\u001b[31m    \u001b[39m\u001b[31mprint('giai he phuong trinh tuyen tinh :\u001b[39m\n          ^\n\u001b[31mSyntaxError\u001b[39m\u001b[31m:\u001b[39m unterminated string literal (detected at line 2)\n"
     ]
    }
   ],
   "source": [
    "#bai8\n",
    "print('giai he phuong trinh tuyen tinh :')\n",
    "print('            ax+by=m')\n",
    "print('            cx+dy=n')\n",
    "a,b,m=map(float,input('nhap a,b,m').split())\n",
    "c,d,n=map(float,input('nhap c,d,n').split())\n"
   ]
  },
  {
   "cell_type": "code",
   "execution_count": 4,
   "id": "ec8aec20-f9f4-49e7-900f-cfb3d23ecf12",
   "metadata": {},
   "outputs": [
    {
     "name": "stdin",
     "output_type": "stream",
     "text": [
      "nhap so giay lam het cong viec: 60\n"
     ]
    },
    {
     "name": "stdout",
     "output_type": "stream",
     "text": [
      "thoi gian lam het cong viec la : 0 gio 1 phut 0 giay\n"
     ]
    }
   ],
   "source": [
    "#bai9\n",
    "t=int(input('nhap so giay lam het cong viec:'))\n",
    "h=t//3600\n",
    "p=t//60\n",
    "s=t-h*3600-p*60\n",
    "print('thoi gian lam het cong viec la :',h,'gio',p,'phut',s,'giay')"
   ]
  },
  {
   "cell_type": "code",
   "execution_count": 21,
   "id": "7336485f-2bf4-4363-9864-1ff13f7e3fd3",
   "metadata": {},
   "outputs": [
    {
     "name": "stdin",
     "output_type": "stream",
     "text": [
      "nhap toa do tam (x;y): 2 3\n",
      "nhap ban kinh: 5\n",
      "nhap toa do (xa;ya): 6 78\n"
     ]
    },
    {
     "name": "stdout",
     "output_type": "stream",
     "text": [
      "A nam ngoai duong tron\n"
     ]
    }
   ],
   "source": [
    "#bai10\n",
    "a,b=map(float,input('nhap toa do tam (x;y):').split())\n",
    "r=float(input('nhap ban kinh:'))\n",
    "c,d=map(float,input('nhap toa do (xa;ya):').split())\n",
    "k=(a-c)*(a-c)+(b-d)*(b-d)\n",
    "if k>r*r:\n",
    "    print('A nam ngoai duong tron')\n",
    "else:\n",
    "    print('A thuoc duong tron')"
   ]
  },
  {
   "cell_type": "code",
   "execution_count": 1,
   "id": "9d199c4b-2004-46ff-b12f-87b4bfa31b2b",
   "metadata": {},
   "outputs": [
    {
     "name": "stdin",
     "output_type": "stream",
     "text": [
      " 2 3.2\n"
     ]
    },
    {
     "name": "stdout",
     "output_type": "stream",
     "text": [
      "9.18958683997628\n"
     ]
    }
   ],
   "source": [
    "#bai11\n",
    "x,y=map(float,input().split())\n",
    "i=1\n",
    "s=1\n",
    "k=y-int(y)\n",
    "for i in range(1,int(y)+1):\n",
    "    s=s*x\n",
    "    i+=1\n",
    "if k>0:    \n",
    "    print(s*(x**k))\n",
    "else:\n",
    "    print(s)\n",
    "    "
   ]
  }
 ],
 "metadata": {
  "kernelspec": {
   "display_name": "Python 3 (ipykernel)",
   "language": "python",
   "name": "python3"
  },
  "language_info": {
   "codemirror_mode": {
    "name": "ipython",
    "version": 3
   },
   "file_extension": ".py",
   "mimetype": "text/x-python",
   "name": "python",
   "nbconvert_exporter": "python",
   "pygments_lexer": "ipython3",
   "version": "3.13.7"
  }
 },
 "nbformat": 4,
 "nbformat_minor": 5
}
