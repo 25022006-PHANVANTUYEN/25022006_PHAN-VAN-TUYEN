{
 "cells": [
  {
   "cell_type": "code",
   "execution_count": null,
   "id": "63616674-65cc-4bd0-96a9-e460617e2524",
   "metadata": {},
   "outputs": [],
   "source": [
    "#bai1\n",
    "n=int(input('nhap n : '))\n",
    "print(2*n)"
   ]
  },
  {
   "cell_type": "code",
   "execution_count": 13,
   "id": "230dd7ab-cdea-4a99-ae82-430d6b263caf",
   "metadata": {},
   "outputs": [
    {
     "name": "stdin",
     "output_type": "stream",
     "text": [
      "nhap chieu rong,chieu dai:  2 3\n"
     ]
    },
    {
     "name": "stdout",
     "output_type": "stream",
     "text": [
      "2.86\n"
     ]
    }
   ],
   "source": [
    "#bai2\n",
    "a,b=map(float,input('nhap chieu rong,chieu dai: ').split())\n",
    "print(a*b-3.14*((a/2)**2))"
   ]
  },
  {
   "cell_type": "code",
   "execution_count": 8,
   "id": "6f220a38-4811-4fe7-9f7c-1a7ede07c2db",
   "metadata": {},
   "outputs": [
    {
     "name": "stdin",
     "output_type": "stream",
     "text": [
      "nhap mot ki tu :  f\n"
     ]
    },
    {
     "name": "stdout",
     "output_type": "stream",
     "text": [
      "F\n",
      "None\n"
     ]
    }
   ],
   "source": [
    "#bai3\n",
    "def check(i):\n",
    "    if len(i)==0 or len(i)>1:return False\n",
    "    if 'a'<=i<='z' or 'A'<=i<='Z':return True\n",
    "    else:return False\n",
    "def take(i):\n",
    "    if 'a'<=i<='z':\n",
    "        i=i.upper()\n",
    "    else:\n",
    "        i=i.title()\n",
    "    print(i)\n",
    "i=input('nhap mot ki tu : ')\n",
    "while check(i)==False:\n",
    "    i=input('nhap sai ki tu, xin moi nhap lai :')\n",
    "print(take(i))\n"
   ]
  },
  {
   "cell_type": "code",
   "execution_count": 5,
   "id": "c16e28c4-d9b2-4b8f-9e21-38f567d78371",
   "metadata": {},
   "outputs": [
    {
     "name": "stdin",
     "output_type": "stream",
     "text": [
      "nhap mot ki tu :  e\n"
     ]
    },
    {
     "name": "stdout",
     "output_type": "stream",
     "text": [
      "e là kì tự alphabet\n"
     ]
    }
   ],
   "source": [
    "#bai4\n",
    "i=input('nhap mot ki tu : ')\n",
    "if \"a\"<=i<=\"z\" or \"A\"<=i<=\"Z\":\n",
    "    print(i,'là kì tự alphabet')\n",
    "else:print(i,'khong phai la ki tu alphabet')"
   ]
  },
  {
   "cell_type": "code",
   "execution_count": 7,
   "id": "914f773b-0141-4efc-a596-5e209c1c7862",
   "metadata": {},
   "outputs": [
    {
     "name": "stdin",
     "output_type": "stream",
     "text": [
      "Nhập kí tự:  2\n",
      "Vui long nhap lai:  2\n",
      "Vui long nhap lai:  t\n"
     ]
    },
    {
     "name": "stdout",
     "output_type": "stream",
     "text": [
      "U\n"
     ]
    }
   ],
   "source": [
    "#bai5\n",
    "def check (i):\n",
    "    if (len(i) != 1): return False\n",
    "    if ((\"a\" <= i <= \"z\") or (\"A\" <= i <= \"Z\")):\n",
    "        return True\n",
    "    return False\n",
    "\n",
    "def ans (i):\n",
    "    k = ord(i)\n",
    "    if ((k >= 65) and (k < 90)): return chr(k + 33)\n",
    "    elif ((k >= 97) and (k < 122)): return chr(k - 31)\n",
    "    elif (k == 90): return chr(97)\n",
    "    return chr(97)\n",
    "\n",
    "i = input(\"Nhập kí tự: \")\n",
    "\n",
    "while (check(i) == False):\n",
    "    i = input(\"Vui long nhap lai: \")\n",
    "    \n",
    "print(ans(i))"
   ]
  },
  {
   "cell_type": "code",
   "execution_count": 10,
   "id": "bbc8eda6-822b-41ef-a7dd-08a50e16215b",
   "metadata": {},
   "outputs": [
    {
     "name": "stdin",
     "output_type": "stream",
     "text": [
      "nhap 3 so :  1 1 7\n"
     ]
    },
    {
     "name": "stdout",
     "output_type": "stream",
     "text": [
      "khong the la 3 canh tam giac\n"
     ]
    }
   ],
   "source": [
    "#bai6\n",
    "a,b,c=map(float,input('nhap 3 so : ').split())\n",
    "if a+b>c and a+c>b and b+c>a:\n",
    "    print('la 3 canh tam giac')\n",
    "else:\n",
    "    print('khong the la 3 canh tam giac')"
   ]
  },
  {
   "cell_type": "code",
   "execution_count": 15,
   "id": "d341862d-6819-4e51-a625-5bb9b358fc0f",
   "metadata": {},
   "outputs": [
    {
     "name": "stdin",
     "output_type": "stream",
     "text": [
      "nhap chuoi 20 ki tu tro len :  3rew\n",
      "nhap lai chuoi :  êrermfkdfskjgkjflsdgjsdgf\n"
     ]
    },
    {
     "name": "stdout",
     "output_type": "stream",
     "text": [
      "f s\n"
     ]
    }
   ],
   "source": [
    "#bai7\n",
    "i=input('nhap chuoi 20 ki tu tro len : ')\n",
    "def check(i):\n",
    "    if 0<len(i)<20:\n",
    "        return False\n",
    "while  (check(i)==False):\n",
    "    i=input('nhap lai chuoi : ')\n",
    "print(i[5],i[9])"
   ]
  },
  {
   "cell_type": "code",
   "execution_count": 1,
   "id": "f0ee9bbd-2f61-48c0-936e-0df918f4af7d",
   "metadata": {},
   "outputs": [
    {
     "name": "stdin",
     "output_type": "stream",
     "text": [
      "Ten chu ho:  ehlo\n",
      "chi so thang truoc:  23\n",
      "chi so thang nay:  4555\n"
     ]
    },
    {
     "name": "stdout",
     "output_type": "stream",
     "text": [
      "Ten chu ho:  ehlo\n",
      "so tien phai tra:  16600918\n"
     ]
    }
   ],
   "source": [
    "#bai8\n",
    "name= input(\"Ten chu ho: \")\n",
    "truoc= float(input(\"chi so thang truoc: \"))\n",
    "sau= float(input(\"chi so thang nay: \"))\n",
    "sodien=sau - truoc\n",
    "if sodien <= 50:\n",
    "    tien= sodien * 1984\n",
    "elif 51<= sodien<=100:\n",
    "    tien = 50*1984 +(sodien-50)*2050\n",
    "elif 101 <= sodien <= 200:\n",
    "    tien = 50*1984 + 50*2050+ (sodien-100)*2380\n",
    "elif 201<= sodien<=300:\n",
    "    tien= 50*1984 + 50*2050+ 100*2380 +(sodien-200)*2998\n",
    "elif 301<= sodien <= 400:\n",
    "    tien=  50*1984 + 50*2050+ 100*2380+ 100*2998+ (sodien-300)*3350\n",
    "elif sodien > 400:\n",
    "    tien= 50*1984 + 50*2050+ 100*2380+ 100*2998+ 100*3350+ (sodien-400)*3460\n",
    "tongtien = int(round(tien*1.08))\n",
    "print(\"Ten chu ho: \",name)\n",
    "print(\"so tien phai tra: \",tongtien)"
   ]
  },
  {
   "cell_type": "code",
   "execution_count": null,
   "id": "cae5a8a0-0891-4b4b-9e08-6e50e6ecee4c",
   "metadata": {},
   "outputs": [],
   "source": []
  }
 ],
 "metadata": {
  "kernelspec": {
   "display_name": "Python 3 (ipykernel)",
   "language": "python",
   "name": "python3"
  },
  "language_info": {
   "codemirror_mode": {
    "name": "ipython",
    "version": 3
   },
   "file_extension": ".py",
   "mimetype": "text/x-python",
   "name": "python",
   "nbconvert_exporter": "python",
   "pygments_lexer": "ipython3",
   "version": "3.13.7"
  }
 },
 "nbformat": 4,
 "nbformat_minor": 5
}
