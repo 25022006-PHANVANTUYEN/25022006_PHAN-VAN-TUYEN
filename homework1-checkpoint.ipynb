{
 "cells": [
  {
   "cell_type": "code",
   "execution_count": null,
   "id": "63616674-65cc-4bd0-96a9-e460617e2524",
   "metadata": {},
   "outputs": [],
   "source": [
    "#bai1\n",
    "n=int(input('nhap n : '))\n",
    "print(2*n)"
   ]
  },
  {
   "cell_type": "code",
   "execution_count": 13,
   "id": "230dd7ab-cdea-4a99-ae82-430d6b263caf",
   "metadata": {},
   "outputs": [
    {
     "name": "stdin",
     "output_type": "stream",
     "text": [
      "nhap chieu rong,chieu dai:  2 3\n"
     ]
    },
    {
     "name": "stdout",
     "output_type": "stream",
     "text": [
      "2.86\n"
     ]
    }
   ],
   "source": [
    "#bai2\n",
    "a,b=map(float,input('nhap chieu rong,chieu dai: ').split())\n",
    "print(a*b-3.14*((a/2)**2))"
   ]
  },
  {
   "cell_type": "code",
   "execution_count": 8,
   "id": "6f220a38-4811-4fe7-9f7c-1a7ede07c2db",
   "metadata": {},
   "outputs": [
    {
     "name": "stdin",
     "output_type": "stream",
     "text": [
      "nhap mot ki tu :  f\n"
     ]
    },
    {
     "name": "stdout",
     "output_type": "stream",
     "text": [
      "F\n",
      "None\n"
     ]
    }
   ],
   "source": [
    "#bai3\n",
    "def check(i):\n",
    "    if len(i)==0 or len(i)>1:return False\n",
    "    if 'a'<=i<='z' or 'A'<=i<='Z':return True\n",
    "    else:return False\n",
    "def take(i):\n",
    "    if 'a'<=i<='z':\n",
    "        i=i.upper()\n",
    "    else:\n",
    "        i=i.title()\n",
    "    print(i)\n",
    "i=input('nhap mot ki tu : ')\n",
    "while check(i)==False:\n",
    "    i=input('nhap sai ki tu, xin moi nhap lai :')\n",
    "print(take(i))\n"
   ]
  },
  {
   "cell_type": "code",
   "execution_count": 5,
   "id": "c16e28c4-d9b2-4b8f-9e21-38f567d78371",
   "metadata": {},
   "outputs": [
    {
     "name": "stdin",
     "output_type": "stream",
     "text": [
      "nhap mot ki tu :  e\n"
     ]
    },
    {
     "name": "stdout",
     "output_type": "stream",
     "text": [
      "e là kì tự alphabet\n"
     ]
    }
   ],
   "source": [
    "#bai4\n",
    "i=input('nhap mot ki tu : ')\n",
    "if \"a\"<=i<=\"z\" or \"A\"<=i<=\"Z\":\n",
    "    print(i,'là kì tự alphabet')\n",
    "else:print(i,'khong phai la ki tu alphabet')"
   ]
  },
  {
   "cell_type": "code",
   "execution_count": 7,
   "id": "914f773b-0141-4efc-a596-5e209c1c7862",
   "metadata": {},
   "outputs": [
    {
     "name": "stdin",
     "output_type": "stream",
     "text": [
      "Nhập kí tự:  2\n",
      "Vui long nhap lai:  2\n",
      "Vui long nhap lai:  t\n"
     ]
    },
    {
     "name": "stdout",
     "output_type": "stream",
     "text": [
      "U\n"
     ]
    }
   ],
   "source": [
    "#bai5\n",
    "def check (i):\n",
    "    if (len(i) != 1): return False\n",
    "    if ((\"a\" <= i <= \"z\") or (\"A\" <= i <= \"Z\")):\n",
    "        return True\n",
    "    return False\n",
    "\n",
    "def ans (i):\n",
    "    k = ord(i)\n",
    "    if ((k >= 65) and (k < 90)): return chr(k + 33)\n",
    "    elif ((k >= 97) and (k < 122)): return chr(k - 31)\n",
    "    elif (k == 90): return chr(97)\n",
    "    return chr(97)\n",
    "\n",
    "i = input(\"Nhập kí tự: \")\n",
    "\n",
    "while (check(i) == False):\n",
    "    i = input(\"Vui long nhap lai: \")\n",
    "    \n",
    "print(ans(i))"
   ]
  },
  {
   "cell_type": "code",
   "execution_count": 10,
   "id": "bbc8eda6-822b-41ef-a7dd-08a50e16215b",
   "metadata": {},
   "outputs": [
    {
     "name": "stdin",
     "output_type": "stream",
     "text": [
      "nhap 3 so :  1 1 7\n"
     ]
    },
    {
     "name": "stdout",
     "output_type": "stream",
     "text": [
      "khong the la 3 canh tam giac\n"
     ]
    }
   ],
   "source": [
    "#bai6\n",
    "a,b,c=map(float,input('nhap 3 so : ').split())\n",
    "if a+b>c and a+c>b and b+c>a:\n",
    "    print('la 3 canh tam giac')\n",
    "else:\n",
    "    print('khong the la 3 canh tam giac')"
   ]
  },
  {
   "cell_type": "code",
   "execution_count": 15,
   "id": "d341862d-6819-4e51-a625-5bb9b358fc0f",
   "metadata": {},
   "outputs": [
    {
     "name": "stdin",
     "output_type": "stream",
     "text": [
      "nhap chuoi 20 ki tu tro len :  3rew\n",
      "nhap lai chuoi :  êrermfkdfskjgkjflsdgjsdgf\n"
     ]
    },
    {
     "name": "stdout",
     "output_type": "stream",
     "text": [
      "f s\n"
     ]
    }
   ],
   "source": [
    "#bai7\n",
    "i=input('nhap chuoi 20 ki tu tro len : ')\n",
    "def check(i):\n",
    "    if 0<len(i)<20:\n",
    "        return False\n",
    "while  (check(i)==False):\n",
    "    i=input('nhap lai chuoi : ')\n",
    "print(i[5],i[9])"
   ]
  },
  {
   "cell_type": "code",
   "execution_count": 1,
   "id": "f0ee9bbd-2f61-48c0-936e-0df918f4af7d",
   "metadata": {},
   "outputs": [
    {
     "ename": "IndentationError",
     "evalue": "unexpected indent (1193564354.py, line 8)",
     "output_type": "error",
     "traceback": [
      "  \u001b[36mCell\u001b[39m\u001b[36m \u001b[39m\u001b[32mIn[1]\u001b[39m\u001b[32m, line 8\u001b[39m\n\u001b[31m    \u001b[39m\u001b[31mif i-100>0:count+=50*2050\u001b[39m\n    ^\n\u001b[31mIndentationError\u001b[39m\u001b[31m:\u001b[39m unexpected indent\n"
     ]
    }
   ],
   "source": [
    "#bai8\n",
    "a=int(input('nhap so dien o thang truoc: '))\n",
    "b=int(input('nhap so dien o thang nay: '))\n",
    "c=b-a\n",
    "def tien(i):\n",
    "    count=0\n",
    "    if i-50>0:count=50*1984\n",
    "            if i-100>0:count+=50*2050\n",
    "                    if i-200>0:count+=100*2380\n",
    "                    else:count+=(i-101)*2380\n",
    "                        if i-300>0:count+=100*2998\n",
    "                        else:count+=(i-201)*2998\n",
    "                            if i-400>0:count+=100*3350+(i-400)*3460\n",
    "                            else:count+=(i-301)*3350\n",
    "            else:count+=(i-50)*2050\n",
    "    else:count=i*1984         \n",
    "    tong=count*1.08\n",
    "print(tien(c))        \n",
    "    "
   ]
  },
  {
   "cell_type": "code",
   "execution_count": null,
   "id": "cae5a8a0-0891-4b4b-9e08-6e50e6ecee4c",
   "metadata": {},
   "outputs": [],
   "source": []
  }
 ],
 "metadata": {
  "kernelspec": {
   "display_name": "Python 3 (ipykernel)",
   "language": "python",
   "name": "python3"
  },
  "language_info": {
   "codemirror_mode": {
    "name": "ipython",
    "version": 3
   },
   "file_extension": ".py",
   "mimetype": "text/x-python",
   "name": "python",
   "nbconvert_exporter": "python",
   "pygments_lexer": "ipython3",
   "version": "3.13.7"
  }
 },
 "nbformat": 4,
 "nbformat_minor": 5
}
